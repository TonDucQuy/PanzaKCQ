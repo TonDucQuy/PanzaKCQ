{
  "cells": [
    {
      "cell_type": "markdown",
      "metadata": {},
      "source": [
        "Đăng nhập tài khoản huggingface và wandb(Optional)"
      ]
    },
    {
      "cell_type": "code",
      "execution_count": null,
      "metadata": {
        "id": "kvZ18ysqZeyf"
      },
      "outputs": [],
      "source": [
        "!huggingface-cli login\n",
        "!wandb login"
      ]
    },
    {
      "cell_type": "markdown",
      "metadata": {},
      "source": [
        "Bỏ file .mbox từ google thông qua google checkout vào mục PanzaMail/data"
      ]
    },
    {
      "cell_type": "code",
      "execution_count": null,
      "metadata": {
        "id": "f77cV3c6b4Fe"
      },
      "outputs": [],
      "source": [
        "!./extract_emails.sh\n",
        "!source config.sh && cp ../data/Don_Quijote_Emails.jsonl ../data/${PANZA_USERNAME}_clean.jsonl\n",
        "!./prepare_dataset.sh LOAD_IN_4BIT=1 RUN_FP32=1\n",
        "!./train_rosa.sh CONFIG=../src/panza/finetuning/configs/rosa_panza_colab.yaml"
      ]
    },
    {
      "cell_type": "markdown",
      "metadata": {},
      "source": [
        "Chạy model được train dựa trên dữ liệu email vừa được train\n",
        "Path sẽ là PanzaMail/checkpoints/models/....."
      ]
    },
    {
      "cell_type": "code",
      "execution_count": null,
      "metadata": {
        "id": "XfGitk5ZBNaU"
      },
      "outputs": [],
      "source": [
        "!./run_panza_cli.sh MODEL=/path/to/your/model/"
      ]
    }
  ],
  "metadata": {
    "accelerator": "GPU",
    "colab": {
      "gpuType": "T4",
      "provenance": []
    },
    "kernelspec": {
      "display_name": "Python 3",
      "name": "python3"
    },
    "language_info": {
      "name": "python"
    }
  },
  "nbformat": 4,
  "nbformat_minor": 0
}
