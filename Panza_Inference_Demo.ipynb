{
  "cells": [
    {
      "cell_type": "markdown",
      "metadata": {},
      "source": [
        "Install các package cần thiết"
      ]
    },
    {
      "cell_type": "code",
      "execution_count": null,
      "metadata": {},
      "outputs": [],
      "source": [
        "!cd PanzaMail\n",
        "!pip install -U langchain-huggingface\n",
        "!pip install langchain-core==0.2.43\n",
        "!pip install flash_attn\n",
        "!pip install -e.\n",
        "!cd scripts"
      ]
    },
    {
      "cell_type": "markdown",
      "metadata": {},
      "source": [
        "Tiền xử lý dữ liệu, clean các file jsonl và train rosa trong PanzaMail/data\n",
        "Đã có sẵn 2 user là dan và jane"
      ]
    },
    {
      "cell_type": "code",
      "execution_count": null,
      "metadata": {},
      "outputs": [],
      "source": [
        "!CUDA_VISIBLE_DEVICES=0 ./prepare_data.sh user=dan\n",
        "!./train_rosa.sh finetuning.precision=amp_bf16 finetuning.model.weight_bias_dtype=4bit"
      ]
    },
    {
      "cell_type": "code",
      "execution_count": null,
      "metadata": {},
      "outputs": [],
      "source": [
        "!CUDA_VISIBLE_DEVICES=0 ./prepare_data.sh user=jane\n",
        "!./train_rosa.sh finetuning.precision=amp_bf16 finetuning.model.weight_bias_dtype=4bit"
      ]
    },
    {
      "cell_type": "markdown",
      "metadata": {},
      "source": [
        "Chạy gui để sử dụng chat bot\n",
        "(Chỉ có 1 user được sử dụng cùng lúc)"
      ]
    },
    {
      "cell_type": "markdown",
      "metadata": {},
      "source": [
        "Run Jane"
      ]
    },
    {
      "cell_type": "code",
      "execution_count": null,
      "metadata": {},
      "outputs": [],
      "source": [
        "!CUDA_VISIBLE_DEVICES=0 ./runner.sh user=jane interfaces=gui writer/llm=peft checkpoint=/teamspace/studios/this_studio/PanzaMail/checkpoints/models/panza_jane_anonymous-Phi-3-mini-4k-instruct-bf16-bs8-rosa-lr1e-05-5ep-seed41"
      ]
    },
    {
      "cell_type": "markdown",
      "metadata": {},
      "source": [
        "Run Dan"
      ]
    },
    {
      "cell_type": "code",
      "execution_count": null,
      "metadata": {},
      "outputs": [],
      "source": [
        "!CUDA_VISIBLE_DEVICES=0 ./runner.sh user=dan interfaces=gui writer/llm=peft checkpoint=/teamspace/studios/this_studio/PanzaMail/checkpoints/models/panza_dan_anonymous-Phi-3-mini-4k-instruct-bf16-bs8-rosa-lr1e-05-5ep-seed41"
      ]
    },
    {
      "cell_type": "markdown",
      "metadata": {},
      "source": [
        "Muốn thêm user:\n"
      ]
    },
    {
      "cell_type": "markdown",
      "metadata": {},
      "source": [
        "PanzaMail/configs/user: Tại đây tự tạo yaml theo tên của user mới, thiết lập các path cho user này\n"
      ]
    },
    {
      "cell_type": "markdown",
      "metadata": {},
      "source": [
        "PanzaMail/prompt_preambles: Tại đây sẽ lưu các prompt có sẵn của user, dùng để lưu các thông tin cố định cho user (đọc kĩ readme.md bên trong)"
      ]
    }
  ],
  "metadata": {
    "accelerator": "GPU",
    "colab": {
      "gpuType": "T4",
      "provenance": []
    },
    "kernelspec": {
      "display_name": "Python 3",
      "name": "python3"
    },
    "language_info": {
      "name": "python"
    }
  },
  "nbformat": 4,
  "nbformat_minor": 0
}
