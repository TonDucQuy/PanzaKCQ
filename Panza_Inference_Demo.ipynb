{
  "cells": [
    {
      "cell_type": "code",
      "execution_count": null,
      "metadata": {},
      "outputs": [],
      "source": [
        "!pip install gdown"
      ]
    },
    {
      "cell_type": "code",
      "execution_count": null,
      "metadata": {
        "collapsed": true,
        "id": "C5b_hYQJuhVQ"
      },
      "outputs": [],
      "source": [
        "%%capture\n",
        "import gdown, os, json\n",
        "from pathlib import Path\n",
        "import pandas as pd\n",
        "\n",
        "!cd PanzaMail/ && pip install .\n",
        "!pip install transformers==4.49.0\n",
        "\n",
        "!git clone https://github.com/IST-DASLab/spops.git\n",
        "%cd spops\n",
        "!sed -i -e 's/sm_80/sm_75/g' setup.py\n",
        "!pip install -e .\n",
        "%cd ..\n",
        "\n",
        "!pip install langdetect fire gradio cmake packaging\n",
        "!pip install llm-foundry@git+https://github.com/IST-DASLab/llm-foundry@panza-release\n",
        "!pip install peft@git+https://github.com/IST-DASLab/peft-rosa.git@grad_quant_looser_versioning"
      ]
    },
    {
      "cell_type": "markdown",
      "metadata": {
        "id": "lfMcZHktnphn"
      },
      "source": []
    },
    {
      "cell_type": "code",
      "execution_count": 6,
      "metadata": {
        "id": "ziwS822okPnN"
      },
      "outputs": [],
      "source": [
        "!sed -i -e 's/fp32/bf16/g' \"PanzaMail/configs/writer/llm/peft.yaml\"\n",
        "!sed -i -e 's/true/false/g' \"PanzaMail/configs/interfaces/json.yaml\"\n",
        "!sed -i -e 's/test.jsonl/prompts.jsonl/g' \"PanzaMail/configs/interfaces/json.yaml\""
      ]
    },
    {
      "cell_type": "markdown",
      "metadata": {},
      "source": [
        "Login tk hgface"
      ]
    },
    {
      "cell_type": "code",
      "execution_count": null,
      "metadata": {},
      "outputs": [],
      "source": [
        "!pip install -U langchain-huggingface"
      ]
    },
    {
      "cell_type": "code",
      "execution_count": null,
      "metadata": {},
      "outputs": [],
      "source": [
        "!pip install langchain-core==0.2.43\n"
      ]
    },
    {
      "cell_type": "code",
      "execution_count": null,
      "metadata": {},
      "outputs": [],
      "source": [
        "!pip check"
      ]
    },
    {
      "cell_type": "code",
      "execution_count": null,
      "metadata": {},
      "outputs": [],
      "source": [
        "!git clone https://github.com/krishnap25/mauve.git\n"
      ]
    },
    {
      "cell_type": "code",
      "execution_count": null,
      "metadata": {},
      "outputs": [],
      "source": [
        "pwd"
      ]
    },
    {
      "cell_type": "code",
      "execution_count": null,
      "metadata": {},
      "outputs": [],
      "source": [
        "!pip install flash_attn"
      ]
    },
    {
      "cell_type": "code",
      "execution_count": null,
      "metadata": {},
      "outputs": [],
      "source": [
        "!pip install -e."
      ]
    },
    {
      "cell_type": "code",
      "execution_count": null,
      "metadata": {},
      "outputs": [],
      "source": [
        "cd .."
      ]
    },
    {
      "cell_type": "code",
      "execution_count": 2,
      "metadata": {},
      "outputs": [
        {
          "name": "stdout",
          "output_type": "stream",
          "text": [
            "/teamspace/studios/this_studio/PanzaMail/scripts\n"
          ]
        },
        {
          "name": "stderr",
          "output_type": "stream",
          "text": [
            "/home/zeus/miniconda3/envs/cloudspace/lib/python3.10/site-packages/IPython/core/magics/osm.py:417: UserWarning: using dhist requires you to install the `pickleshare` library.\n",
            "  self.shell.db['dhist'] = compress_dhist(dhist)[-100:]\n"
          ]
        }
      ],
      "source": [
        "cd PanzaMail/scripts"
      ]
    },
    {
      "cell_type": "code",
      "execution_count": null,
      "metadata": {
        "colab": {
          "base_uri": "https://localhost:8080/"
        },
        "id": "Du9Re0cgjydY",
        "outputId": "c64da154-b0b9-4b1e-cbee-2e79672ca271"
      },
      "outputs": [],
      "source": [
        "pwd"
      ]
    },
    {
      "cell_type": "markdown",
      "metadata": {},
      "source": [
        "Tiền xử lý dữ liệu -> .pkl/.faiss/train.jsonl"
      ]
    },
    {
      "cell_type": "code",
      "execution_count": null,
      "metadata": {},
      "outputs": [],
      "source": [
        "!CUDA_VISIBLE_DEVICES=0 ./prepare_data.sh user=dan"
      ]
    },
    {
      "cell_type": "code",
      "execution_count": null,
      "metadata": {},
      "outputs": [],
      "source": [
        "!CUDA_VISIBLE_DEVICES=0 ./prepare_data.sh user=jane"
      ]
    },
    {
      "cell_type": "markdown",
      "metadata": {},
      "source": [
        "Train , train theo rosa"
      ]
    },
    {
      "cell_type": "code",
      "execution_count": null,
      "metadata": {},
      "outputs": [],
      "source": [
        "!./train_rosa.sh finetuning.precision=amp_bf16 finetuning.model.weight_bias_dtype=4bit"
      ]
    },
    {
      "cell_type": "markdown",
      "metadata": {},
      "source": [
        "interfaces = gui(web/cli/...)\n",
        "Chạy chương trinh"
      ]
    },
    {
      "cell_type": "markdown",
      "metadata": {},
      "source": []
    },
    {
      "cell_type": "markdown",
      "metadata": {},
      "source": [
        "Run Jane"
      ]
    },
    {
      "cell_type": "code",
      "execution_count": 5,
      "metadata": {},
      "outputs": [
        {
          "name": "stdout",
          "output_type": "stream",
          "text": [
            "     .    .        .                    .    .    .         \n",
            "                   ...  .  .    .          . .       .    . \n",
            "                       .   .  .        . . =%[ :+.     .    \n",
            "       .          .            .         .~@% +@(           \n",
            " .  ..     ~<:           .  .       .     >@^.@)         .  \n",
            "      .  . :}:      .            .        *@@@@@{^=-.       \n",
            " .       ={@@~ .     .      .            .)@@@@@@@@@#= .    \n",
            "       *%@@@@^     . .   ~^^             >@@@@@@@@@%(=.     \n",
            "  (@%@@@@@@@@[       =#@@@@@@@@@@@#=    -}@@@@@@]..*=       \n",
            "  ^@@@@@@@@@@%..  :<#@@@@@@@@@@@{=    ..:}@@@@@-)       ..  \n",
            "  ~@@@@@@@@@@@-:[@@@@@@@@@@@@@@%+ .     =#@@@@@+* ..       .\n",
            "  :@@@@@@#^:.^*>#@%#{@@@@@@@@@@@#  ..+-.^@@@@@@<--          \n",
            "  .}@@@[+    -(  .  .<@@@@@@@@@@^   ^%[=)@@@@@@~<(          \n",
            " .  ..       +@*. *}@@@@@@@@@@@@()>+)@@+=%@@@@@+}{= .       \n",
            "             {@@#%@@@@@@@@@@@@@@@%{@@@%+]@@@@@@+            \n",
            "        .    =@@@@@@@@@@@@@@@@@@@@@{#{*.(@@@@@@*            \n",
            "       .      -@][[#@@@@@@@@@@@@@@@@@).=#@@@@@@*            \n",
            "     +)}[{}*   #..-@@@@@@@@@@@@@@@@@@%>(@@@@@@@^            \n",
            "  . ~[@@@@@@^:=#{#@@@@@@@@@@@@@@@@@@@@@@@@@@@@@<. .         \n",
            "   ~#@@@@@@#@@@@@@@@@@@@@@@@@@@@@@@@@@@@@@@@@@%             \n",
            "  .:)@@@@(:~%@@@@@@@@@@@@@@@@@@@@@@@@@@@@@@@@@*             \n",
            "    ~{@#<. <@@@@@@@@@@@@@@@@@@@@@@@@@@@@@@@@@#..         .. \n",
            "      ==   (@@@@@@@@@@@@@@@@@@@@@@@@@@@@@@@@@>    .      .  \n",
            "        . .>@@@@@@@@@@@@@@@@@@@@@@@@@@@@@@@@]         .     \n",
            "    .      :%@@@@@@@@@@@@@@@@@@@@@@@@@@@@@@(.               \n",
            "        .   ^@@@@@@@@@@@@@@@@@@@@@@@@@@@@@~                 \n",
            "        ...  ~@@@@@@@@@@@@@@@@@@@@@@@@@[~     .          .  \n",
            "    .   .  .  >@@@@@@@}=:=+^>^+@@@@@@@[:  .            .    \n",
            ".            ..>@@@@@}-        +@@@@@]:               .  .. \n",
            ".               :#<<(           -{](>                .      \n",
            "      .    .   ..(]>}+~~~=======+}(((~-::... .   ..         \n",
            "     .:~=+^>)][[}{#%%@@@@@@@@@@@@@@@@@%%#{}}[])<>*+=-:.  .  \n",
            "    .        . .         . .     ..            .     . .    \n",
            ".______      ___      .__   __.  ________      ___      \n",
            "|   _  \\    /   \\     |  \\ |  | |       /     /   \\     \n",
            "|  |_)  |  /  ^  \\    |   \\|  | `---/  /     /  ^  \\    \n",
            "|   ___/  /  /_\\  \\   |  . `  |    /  /     /  /_\\  \\   \n",
            "|  |     /  _____  \\  |  |\\   |   /  /----./  _____  \\  \n",
            "| _|    /__/     \\__\\ |__| \\__|  /________/__/     \\__\\ \n",
            "                                                        \n",
            "/home/zeus/miniconda3/envs/cloudspace/lib/python3.10/site-packages/hydra/_internal/defaults_list.py:251: UserWarning: In 'panza_writer': Defaults list is missing `_self_`. See https://hydra.cc/docs/1.2/upgrades/1.0_to_1.1/default_composition_order for more information\n",
            "  warnings.warn(msg, UserWarning)\n",
            "/home/zeus/miniconda3/envs/cloudspace/lib/python3.10/site-packages/hydra/_internal/hydra.py:119: UserWarning: Future Hydra versions will no longer change working directory at job runtime by default.\n",
            "See https://hydra.cc/docs/1.2/upgrades/1.1_to_1.2/changes_to_job_working_dir/ for more information.\n",
            "  ret = run_job(\n",
            "[2025-04-26 01:26:17,714][__main__][INFO] - Starting Panza Writer\n",
            "[2025-04-26 01:26:17,731][__main__][INFO] - Configuration: \n",
            "user:\n",
            "  email_address: jane_anonymous@gmail.com\n",
            "  username: jane_anonymous\n",
            "  data_dir: /teamspace/studios/this_studio/PanzaMail/scripts/..//data\n",
            "  system_preamble_path: /teamspace/studios/this_studio/PanzaMail/scripts/..//prompt_preambles/system_preamble.txt\n",
            "  user_preamble_path: /teamspace/studios/this_studio/PanzaMail/scripts/..//prompt_preambles/jane_preamble.txt\n",
            "  rag_preamble_path: /teamspace/studios/this_studio/PanzaMail/scripts/..//prompt_preambles/rag_preamble.txt\n",
            "  thread_preamble_path: /teamspace/studios/this_studio/PanzaMail/scripts/..//prompt_preambles/thread_preamble.txt\n",
            "panza_workspace: /teamspace/studios/this_studio/PanzaMail/scripts/../\n",
            "checkpoint_dir: /teamspace/studios/this_studio/PanzaMail/scripts/..//checkpoints\n",
            "seed: 41\n",
            "embedding_model: sentence-transformers/all-mpnet-base-v2\n",
            "model_precision: bf16\n",
            "writer:\n",
            "  llm:\n",
            "    sampling:\n",
            "      do_sample: true\n",
            "      temperature: 0.7\n",
            "      top_k: 50\n",
            "      top_p: 0.7\n",
            "      max_new_tokens: 1024\n",
            "    _target_: panza.llm.PeftLLM\n",
            "    name: /teamspace/studios/this_studio/PanzaMail/checkpoints/models/panza_jane_anonymous-Phi-3-mini-4k-instruct-bf16-bs8-rosa-lr1e-05-5ep-seed41\n",
            "    checkpoint: /teamspace/studios/this_studio/PanzaMail/checkpoints/models/panza_jane_anonymous-Phi-3-mini-4k-instruct-bf16-bs8-rosa-lr1e-05-5ep-seed41\n",
            "    device: cuda\n",
            "    dtype: bf16\n",
            "    load_in_4bit: false\n",
            "    remove_prompt_from_stream: true\n",
            "  prompting:\n",
            "    retriever:\n",
            "      _target_: panza.retriever.FaissRetriever\n",
            "      db_path: /teamspace/studios/this_studio/PanzaMail/scripts/..//data\n",
            "      index_name: jane_anonymous\n",
            "      embedding_model: sentence-transformers/all-mpnet-base-v2\n",
            "      device: cpu\n",
            "    _target_: panza.prompting.EmailPromptBuilder\n",
            "    system_preamble: Your role is that of a helpful automated email assistant. I will\n",
            "      provide you with a short instruction, and you have to write a well-formed email\n",
            "      in my style following this instruction. Be sure to follow my email writing style!  In\n",
            "      case you see a nonsensical instruction, you should not reply with an email,\n",
            "      but with the expression \"Sorry, but I don't get it.\"\n",
            "    user_preamble: '\n",
            "\n",
            "      Name: Jane Jen.\n",
            "\n",
            "      Education: Final-year IT student at Metropolitan University.\n",
            "\n",
            "      Expected Graduation: April 2025.\n",
            "\n",
            "      Student ID: 21126051.\n",
            "\n",
            "\n",
            "      Technical Skills\n",
            "\n",
            "      Programming Languages: Java (Spring Boot, Spring Data JPA), Python (Flask, Pandas,\n",
            "      Matplotlib/Seaborn), SQL (MySQL, PostgreSQL), Tools & Technologies:, Git version\n",
            "      control, Docker (basic knowledge), REST APIs, JUnit testing, Linux, AWS (basic\n",
            "      knowledge)\n",
            "\n",
            "\n",
            "      Career Interests\n",
            "\n",
            "      She''s applying for various entry-level positions including: Backend Developer,\n",
            "      Java Developer, Data Engineer, Business Analyst, Data Analyst, Key Strengths,\n",
            "      Strong analytical skills, Database management, API development, Data analysis\n",
            "      and visualization, Clear communication, Quick learner, Adaptable, Professional\n",
            "      Goals\n",
            "\n",
            "\n",
            "      Based on her applications, she''s particularly interested in:FinTech platforms,\n",
            "      Cloud infrastructure, Analytics platforms, E-commerce solutions, Enterprise\n",
            "      software.\n",
            "\n",
            "      Jane appears to be a well-rounded IT graduate with both technical and analytical\n",
            "      skills, actively seeking entry-level positions across different IT domains.'\n",
            "    rag_preamble: 'Extract specific information from these previous e-mails only if\n",
            "      it is relevant to the current e-mail you have to write.\n",
            "\n",
            "\n",
            "      Previous e-mails:\n",
            "\n",
            "      {rag_context}'\n",
            "    thread_preamble: 'This is the current email thread:\n",
            "\n",
            "\n",
            "      {threading_context}'\n",
            "    number_rag_emails: 0\n",
            "    rag_relevance_threshold: 0.2\n",
            "    number_thread_emails: 0\n",
            "  _target_: panza.writer.PanzaWriter\n",
            "interfaces:\n",
            "  _target_: panza.interface.PanzaGUI\n",
            "checkpoint: /teamspace/studios/this_studio/PanzaMail/checkpoints/models/panza_jane_anonymous-Phi-3-mini-4k-instruct-bf16-bs8-rosa-lr1e-05-5ep-seed41\n",
            "\n",
            "Loading checkpoint shards: 100%|██████████████████| 2/2 [00:02<00:00,  1.01s/it]\n",
            "/home/zeus/miniconda3/envs/cloudspace/lib/python3.10/site-packages/peft/tuners/rosa/splinear.py:43: UserWarning: Sparse CSR tensor support is in beta state. If you miss a functionality in the sparse tensor support, please submit a feature request to https://github.com/pytorch/pytorch/issues. (Triggered internally at ../aten/src/ATen/SparseCsrTensorImpl.cpp:53.)\n",
            "  return torch.sparse_csr_tensor(\n",
            "^C\n"
          ]
        }
      ],
      "source": [
        "!CUDA_VISIBLE_DEVICES=0 ./runner.sh user=jane interfaces=gui writer/llm=peft checkpoint=/teamspace/studios/this_studio/PanzaMail/checkpoints/models/panza_jane_anonymous-Phi-3-mini-4k-instruct-bf16-bs8-rosa-lr1e-05-5ep-seed41"
      ]
    },
    {
      "cell_type": "markdown",
      "metadata": {},
      "source": [
        "Run Dan"
      ]
    },
    {
      "cell_type": "code",
      "execution_count": 4,
      "metadata": {},
      "outputs": [
        {
          "name": "stdout",
          "output_type": "stream",
          "text": [
            "     .    .        .                    .    .    .         \n",
            "                   ...  .  .    .          . .       .    . \n",
            "                       .   .  .        . . =%[ :+.     .    \n",
            "       .          .            .         .~@% +@(           \n",
            " .  ..     ~<:           .  .       .     >@^.@)         .  \n",
            "      .  . :}:      .            .        *@@@@@{^=-.       \n",
            " .       ={@@~ .     .      .            .)@@@@@@@@@#= .    \n",
            "       *%@@@@^     . .   ~^^             >@@@@@@@@@%(=.     \n",
            "  (@%@@@@@@@@[       =#@@@@@@@@@@@#=    -}@@@@@@]..*=       \n",
            "  ^@@@@@@@@@@%..  :<#@@@@@@@@@@@{=    ..:}@@@@@-)       ..  \n",
            "  ~@@@@@@@@@@@-:[@@@@@@@@@@@@@@%+ .     =#@@@@@+* ..       .\n",
            "  :@@@@@@#^:.^*>#@%#{@@@@@@@@@@@#  ..+-.^@@@@@@<--          \n",
            "  .}@@@[+    -(  .  .<@@@@@@@@@@^   ^%[=)@@@@@@~<(          \n",
            " .  ..       +@*. *}@@@@@@@@@@@@()>+)@@+=%@@@@@+}{= .       \n",
            "             {@@#%@@@@@@@@@@@@@@@%{@@@%+]@@@@@@+            \n",
            "        .    =@@@@@@@@@@@@@@@@@@@@@{#{*.(@@@@@@*            \n",
            "       .      -@][[#@@@@@@@@@@@@@@@@@).=#@@@@@@*            \n",
            "     +)}[{}*   #..-@@@@@@@@@@@@@@@@@@%>(@@@@@@@^            \n",
            "  . ~[@@@@@@^:=#{#@@@@@@@@@@@@@@@@@@@@@@@@@@@@@<. .         \n",
            "   ~#@@@@@@#@@@@@@@@@@@@@@@@@@@@@@@@@@@@@@@@@@%             \n",
            "  .:)@@@@(:~%@@@@@@@@@@@@@@@@@@@@@@@@@@@@@@@@@*             \n",
            "    ~{@#<. <@@@@@@@@@@@@@@@@@@@@@@@@@@@@@@@@@#..         .. \n",
            "      ==   (@@@@@@@@@@@@@@@@@@@@@@@@@@@@@@@@@>    .      .  \n",
            "        . .>@@@@@@@@@@@@@@@@@@@@@@@@@@@@@@@@]         .     \n",
            "    .      :%@@@@@@@@@@@@@@@@@@@@@@@@@@@@@@(.               \n",
            "        .   ^@@@@@@@@@@@@@@@@@@@@@@@@@@@@@~                 \n",
            "        ...  ~@@@@@@@@@@@@@@@@@@@@@@@@@[~     .          .  \n",
            "    .   .  .  >@@@@@@@}=:=+^>^+@@@@@@@[:  .            .    \n",
            ".            ..>@@@@@}-        +@@@@@]:               .  .. \n",
            ".               :#<<(           -{](>                .      \n",
            "      .    .   ..(]>}+~~~=======+}(((~-::... .   ..         \n",
            "     .:~=+^>)][[}{#%%@@@@@@@@@@@@@@@@@%%#{}}[])<>*+=-:.  .  \n",
            "    .        . .         . .     ..            .     . .    \n",
            ".______      ___      .__   __.  ________      ___      \n",
            "|   _  \\    /   \\     |  \\ |  | |       /     /   \\     \n",
            "|  |_)  |  /  ^  \\    |   \\|  | `---/  /     /  ^  \\    \n",
            "|   ___/  /  /_\\  \\   |  . `  |    /  /     /  /_\\  \\   \n",
            "|  |     /  _____  \\  |  |\\   |   /  /----./  _____  \\  \n",
            "| _|    /__/     \\__\\ |__| \\__|  /________/__/     \\__\\ \n",
            "                                                        \n",
            "/home/zeus/miniconda3/envs/cloudspace/lib/python3.10/site-packages/hydra/_internal/defaults_list.py:251: UserWarning: In 'panza_writer': Defaults list is missing `_self_`. See https://hydra.cc/docs/1.2/upgrades/1.0_to_1.1/default_composition_order for more information\n",
            "  warnings.warn(msg, UserWarning)\n",
            "/home/zeus/miniconda3/envs/cloudspace/lib/python3.10/site-packages/hydra/_internal/hydra.py:119: UserWarning: Future Hydra versions will no longer change working directory at job runtime by default.\n",
            "See https://hydra.cc/docs/1.2/upgrades/1.1_to_1.2/changes_to_job_working_dir/ for more information.\n",
            "  ret = run_job(\n",
            "[2025-04-26 00:45:23,149][__main__][INFO] - Starting Panza Writer\n",
            "[2025-04-26 00:45:23,166][__main__][INFO] - Configuration: \n",
            "user:\n",
            "  email_address: dan_anonymous@gmail.com\n",
            "  username: dan_anonymous\n",
            "  data_dir: /teamspace/studios/this_studio/PanzaMail/scripts/..//data\n",
            "  system_preamble_path: /teamspace/studios/this_studio/PanzaMail/scripts/..//prompt_preambles/system_preamble.txt\n",
            "  user_preamble_path: /teamspace/studios/this_studio/PanzaMail/scripts/..//prompt_preambles/dan_preamble.txt\n",
            "  rag_preamble_path: /teamspace/studios/this_studio/PanzaMail/scripts/..//prompt_preambles/rag_preamble.txt\n",
            "  thread_preamble_path: /teamspace/studios/this_studio/PanzaMail/scripts/..//prompt_preambles/thread_preamble.txt\n",
            "panza_workspace: /teamspace/studios/this_studio/PanzaMail/scripts/../\n",
            "checkpoint_dir: /teamspace/studios/this_studio/PanzaMail/scripts/..//checkpoints\n",
            "seed: 41\n",
            "embedding_model: sentence-transformers/all-mpnet-base-v2\n",
            "model_precision: bf16\n",
            "writer:\n",
            "  llm:\n",
            "    sampling:\n",
            "      do_sample: true\n",
            "      temperature: 0.7\n",
            "      top_k: 50\n",
            "      top_p: 0.7\n",
            "      max_new_tokens: 1024\n",
            "    _target_: panza.llm.PeftLLM\n",
            "    name: /teamspace/studios/this_studio/PanzaMail/checkpoints/models/panza_dan_anonymous-Phi-3-mini-4k-instruct-bf16-bs8-rosa-lr1e-05-5ep-seed41\n",
            "    checkpoint: /teamspace/studios/this_studio/PanzaMail/checkpoints/models/panza_dan_anonymous-Phi-3-mini-4k-instruct-bf16-bs8-rosa-lr1e-05-5ep-seed41\n",
            "    device: cuda\n",
            "    dtype: bf16\n",
            "    load_in_4bit: false\n",
            "    remove_prompt_from_stream: true\n",
            "  prompting:\n",
            "    retriever:\n",
            "      _target_: panza.retriever.FaissRetriever\n",
            "      db_path: /teamspace/studios/this_studio/PanzaMail/scripts/..//data\n",
            "      index_name: dan_anonymous\n",
            "      embedding_model: sentence-transformers/all-mpnet-base-v2\n",
            "      device: cpu\n",
            "    _target_: panza.prompting.EmailPromptBuilder\n",
            "    system_preamble: Your role is that of a helpful automated email assistant. I will\n",
            "      provide you with a short instruction, and you have to write a well-formed email\n",
            "      in my style following this instruction. Be sure to follow my email writing style!  In\n",
            "      case you see a nonsensical instruction, you should not reply with an email,\n",
            "      but with the expression \"Sorry, but I don't get it.\"\n",
            "    user_preamble: '\n",
            "\n",
            "      Name: Dan Smith\n",
            "\n",
            "      Age: 32\n",
            "\n",
            "      Profession: Senior Software Engineer with 5 years of experience at a tech company\n",
            "      in the U.S.\n",
            "\n",
            "      Employee ID: SE0211\n",
            "\n",
            "\n",
            "      '\n",
            "    rag_preamble: 'Extract specific information from these previous e-mails only if\n",
            "      it is relevant to the current e-mail you have to write.\n",
            "\n",
            "\n",
            "      Previous e-mails:\n",
            "\n",
            "      {rag_context}'\n",
            "    thread_preamble: 'This is the current email thread:\n",
            "\n",
            "\n",
            "      {threading_context}'\n",
            "    number_rag_emails: 0\n",
            "    rag_relevance_threshold: 0.2\n",
            "    number_thread_emails: 0\n",
            "  _target_: panza.writer.PanzaWriter\n",
            "interfaces:\n",
            "  _target_: panza.interface.PanzaGUI\n",
            "checkpoint: /teamspace/studios/this_studio/PanzaMail/checkpoints/models/panza_dan_anonymous-Phi-3-mini-4k-instruct-bf16-bs8-rosa-lr1e-05-5ep-seed41\n",
            "\n",
            "Loading checkpoint shards: 100%|██████████████████| 2/2 [00:01<00:00,  1.22it/s]\n",
            "/home/zeus/miniconda3/envs/cloudspace/lib/python3.10/site-packages/peft/tuners/rosa/splinear.py:43: UserWarning: Sparse CSR tensor support is in beta state. If you miss a functionality in the sparse tensor support, please submit a feature request to https://github.com/pytorch/pytorch/issues. (Triggered internally at ../aten/src/ATen/SparseCsrTensorImpl.cpp:53.)\n",
            "  return torch.sparse_csr_tensor(\n",
            "/teamspace/studios/this_studio/PanzaMail/src/panza/retriever/faiss.py:37: LangChainDeprecationWarning: The class `HuggingFaceEmbeddings` was deprecated in LangChain 0.2.2 and will be removed in 0.3.0. An updated version of the class exists in the langchain-huggingface package and should be used instead. To use it run `pip install -U langchain-huggingface` and import as `from langchain_huggingface import HuggingFaceEmbeddings`.\n",
            "  embeddings_model = HuggingFaceEmbeddings(\n",
            "[2025-04-26 00:45:27,314][datasets][INFO] - PyTorch version 2.2.2 available.\n",
            "[2025-04-26 00:45:27,480][sentence_transformers.SentenceTransformer][INFO] - Load pretrained SentenceTransformer: sentence-transformers/all-mpnet-base-v2\n",
            "[2025-04-26 00:45:28,432][faiss.loader][INFO] - Loading faiss with AVX2 support.\n",
            "[2025-04-26 00:45:28,461][faiss.loader][INFO] - Successfully loaded faiss with AVX2 support.\n",
            "[2025-04-26 00:45:28,473][panza.retriever.faiss][INFO] - Loaded Faiss index dan_anonymous from /teamspace/studios/this_studio/PanzaMail/scripts/..//data.\n",
            "[2025-04-26 00:45:29,050][httpx][INFO] - HTTP Request: GET https://api.gradio.app/gradio-messaging/en \"HTTP/1.1 200 OK\"\n",
            "punkt_tab was not downloaded. Installing.\n",
            "[nltk_data] Downloading package punkt_tab to\n",
            "[nltk_data]     /teamspace/studios/this_studio/nltk_data...\n",
            "[nltk_data]   Package punkt_tab is already up-to-date!\n",
            "[2025-04-26 00:45:30,308][httpx][INFO] - HTTP Request: GET https://checkip.amazonaws.com/ \"HTTP/1.1 200 \"\n",
            "Running on local URL:  http://localhost:5002\n",
            "[2025-04-26 00:45:30,405][httpx][INFO] - HTTP Request: GET http://localhost:5002/startup-events \"HTTP/1.1 200 OK\"\n",
            "[2025-04-26 00:45:30,417][botocore.credentials][INFO] - Found credentials from IAM Role: lightning-public-prod-cs-s3-01jrwqa86q8a1w1mmfkkhzre5f\n",
            "[2025-04-26 00:45:30,534][httpx][INFO] - HTTP Request: GET https://api.gradio.app/pkg-version \"HTTP/1.1 200 OK\"\n",
            "[2025-04-26 00:45:30,547][httpx][INFO] - HTTP Request: HEAD http://localhost:5002/ \"HTTP/1.1 200 OK\"\n",
            "[2025-04-26 00:45:30,821][httpx][INFO] - HTTP Request: GET https://api.gradio.app/v2/tunnel-request \"HTTP/1.1 200 OK\"\n",
            "Running on public URL: https://68bc15fc33e43c2e26.gradio.live\n",
            "\n",
            "This share link expires in 72 hours. For free permanent hosting and GPU upgrades, run `gradio deploy` from Terminal to deploy to Spaces (https://huggingface.co/spaces)\n",
            "The `seen_tokens` attribute is deprecated and will be removed in v4.41. Use the `cache_position` model input instead.\n",
            "[2025-04-26 00:47:19,872][transformers_modules.microsoft.Phi-3-mini-4k-instruct.0a67737cc96d2554230f90338b163bc6380a2a85.modeling_phi3][WARNING] - You are not running the flash-attention implementation, expect numerical differences.\n",
            "^C\n",
            "Killing tunnel localhost:5002 <> https://68bc15fc33e43c2e26.gradio.live\n"
          ]
        }
      ],
      "source": [
        "!CUDA_VISIBLE_DEVICES=0 ./runner.sh user=dan interfaces=gui writer/llm=peft checkpoint=/teamspace/studios/this_studio/PanzaMail/checkpoints/models/panza_dan_anonymous-Phi-3-mini-4k-instruct-bf16-bs8-rosa-lr1e-05-5ep-seed41"
      ]
    }
  ],
  "metadata": {
    "accelerator": "GPU",
    "colab": {
      "gpuType": "T4",
      "provenance": []
    },
    "kernelspec": {
      "display_name": "Python 3",
      "name": "python3"
    },
    "language_info": {
      "name": "python"
    }
  },
  "nbformat": 4,
  "nbformat_minor": 0
}
